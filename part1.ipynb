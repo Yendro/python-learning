{
 "cells": [
  {
   "cell_type": "markdown",
   "id": "3999b9e5",
   "metadata": {},
   "source": [
    "## Part 1 of Python Course"
   ]
  },
  {
   "cell_type": "markdown",
   "id": "442e6a41",
   "metadata": {},
   "source": [
    "### Printing text"
   ]
  },
  {
   "cell_type": "markdown",
   "id": "bd283ec6",
   "metadata": {},
   "source": [
    "The `print()` command outputs text in the console."
   ]
  },
  {
   "cell_type": "code",
   "execution_count": 3,
   "id": "be7a7a04",
   "metadata": {},
   "outputs": [
    {
     "name": "stdout",
     "output_type": "stream",
     "text": [
      "Hi, my name is Yendri!\n",
      "This is my \"Python printing\" tutorial\n",
      "This is an equation: 2 + 2 * 10\n",
      "This is the result:\n",
      "22\n"
     ]
    }
   ],
   "source": [
    "print(\"Hi, my name is Yendri!\")\n",
    "print('This is my \"Python printing\" tutorial')\n",
    "print(\"This is an equation: 2 + 2 * 10\")\n",
    "print(\"This is the result:\")\n",
    "print(2 + 2 * 10)"
   ]
  },
  {
   "cell_type": "markdown",
   "id": "9cd57ac2",
   "metadata": {},
   "source": [
    "Each `print` command usually prints out a line of its own, complete with a change of line at the end. However, if the print command is given an additional argument `end = \"\"`, it will not print a line change.\n",
    "\n",
    "Empty lines can be added with an empty print command, or by adding the newline character \\n into the string."
   ]
  },
  {
   "cell_type": "code",
   "execution_count": 23,
   "id": "2d65a1d4",
   "metadata": {},
   "outputs": [
    {
     "name": "stdout",
     "output_type": "stream",
     "text": [
      "Hi there!\n",
      "\n",
      "What's your name?\n",
      "I'm Yendri\n"
     ]
    }
   ],
   "source": [
    "print(\"Hi \", end=\"\")\n",
    "print(\"there!\")\n",
    "\n",
    "print(\"\\nWhat's your name?\")\n",
    "print(\"I'm Yendri\")"
   ]
  },
  {
   "cell_type": "markdown",
   "id": "eb9e5883",
   "metadata": {},
   "source": [
    "### Taking information from the user"
   ]
  },
  {
   "cell_type": "markdown",
   "id": "d9fecbc5",
   "metadata": {},
   "source": [
    "The command `input()` reads in a line of input typed in by the user in the console and stores it in the variable `name`. It may also be used to display a message to the user, to prompt for specific input.\n",
    "\n",
    "The Text in quotation marks as well as variable names can be combined with a + operator in the `print()` command, which concatenates two strings into a single string."
   ]
  },
  {
   "cell_type": "code",
   "execution_count": 2,
   "id": "906b3d9f",
   "metadata": {},
   "outputs": [
    {
     "name": "stdout",
     "output_type": "stream",
     "text": [
      "Hi, Yendri!\n",
      "Yendri is quite a nice name.\n"
     ]
    }
   ],
   "source": [
    "name = input(\"What is your name? \")\n",
    "print(\"Hi, \" + name + \"!\")\n",
    "print(name + \" is quite a nice name.\")"
   ]
  },
  {
   "cell_type": "markdown",
   "id": "bf1c8a6e",
   "metadata": {},
   "source": [
    "### Combining values when printing"
   ]
  },
  {
   "cell_type": "markdown",
   "id": "cf7f4862",
   "metadata": {},
   "source": [
    "To print out a string and an integer in a single command, the integer can be cast as a string with the `str()` function, and the two strings can then be combined normally.\n",
    "\n",
    "Another way is to add a comma between the values. All the values will be printed out regardless of their type.  \n",
    "Using a comma will automatically insert whitespace between each comma-separated part of the printout.\n",
    "\n",
    "_f-strings_ are often the simplest way of formatting text. A single f-string can contain multiple variables."
   ]
  },
  {
   "cell_type": "code",
   "execution_count": 22,
   "id": "54d7f1c1",
   "metadata": {},
   "outputs": [
    {
     "name": "stdout",
     "output_type": "stream",
     "text": [
      "My name is Yendri, I'm 24 years old\n",
      "My name is Yendri and I'm 24 years old\n",
      "My name is Yendri, I'm 24 years old\n"
     ]
    }
   ],
   "source": [
    "# Variables with a string and an integer\n",
    "name = \"Yendri\"\n",
    "age = 25\n",
    "\n",
    "# Print using str()\n",
    "print(\"My name is \" + name + \", I'm \" + str(age - 1) + \" years old\")\n",
    "\n",
    "# Print using comma\n",
    "print(\"My name is\", name, \"and I'm\", age - 1, \"years old\")\n",
    "\n",
    "# Print using f-string\n",
    "print(f\"My name is {name}, I'm {age - 1} years old\")\n"
   ]
  },
  {
   "cell_type": "markdown",
   "id": "4202e8c7",
   "metadata": {},
   "source": [
    "### Arithmetic operations"
   ]
  },
  {
   "cell_type": "markdown",
   "id": "bbb35d84",
   "metadata": {},
   "source": [
    "Most common arithmetic operators in Python:\n",
    "\n",
    "| Operator |             Purpose              |  Example  | Result |\n",
    "| :------: | :------------------------------: | :-------: | :----: |\n",
    "|    +     |             Addition             |   2 + 4   |   6    |\n",
    "|    -     |           Subtraction            | 10 - 2.5  |  7.5   |\n",
    "|    \\_    |          Multiplication          | -2 \\* 123 |  -246  |\n",
    "|    /     | Division (floating point result) |   9 / 2   |  4.5   |\n",
    "|    //    |    Division (integer result)     |  9 // 2   |   4    |\n",
    "|    %     |              Modulo              |   9 % 2   |   1    |\n",
    "|   \\*\\*   |          Exponentiation          | 2 \\*\\* 3  |   8    |"
   ]
  },
  {
   "cell_type": "code",
   "execution_count": 27,
   "id": "b751f49f",
   "metadata": {},
   "outputs": [
    {
     "name": "stdout",
     "output_type": "stream",
     "text": [
      "The BMI is 23.98660422103035\n"
     ]
    }
   ],
   "source": [
    "height = 171.5\n",
    "weight = 70.55\n",
    "\n",
    "# The Body Mass Index, or BMI, is calculated by dividing body mass with the square of height.\n",
    "# Height is converted into metres in the formula.\n",
    "bmi = weight / (height / 100) ** 2\n",
    "\n",
    "print(f\"The BMI is {bmi}\")"
   ]
  },
  {
   "cell_type": "markdown",
   "id": "6b1e93e6",
   "metadata": {},
   "source": [
    "The input() command produces a string when collecting information from the user.  \n",
    "The string produced by the function can be converted into an integer with the function int().  \n",
    "Similarly, a string can be converted into a floating point number with the function float()."
   ]
  },
  {
   "cell_type": "code",
   "execution_count": null,
   "id": "3edd75e1",
   "metadata": {},
   "outputs": [
    {
     "name": "stdout",
     "output_type": "stream",
     "text": [
      "Your age at the end of the year 2025: 25\n",
      "The BMI is 23.98660422103035\n"
     ]
    }
   ],
   "source": [
    "# Converting to integer\n",
    "input_str = input(\"Which year were you born? \")\n",
    "year = int(input_str)\n",
    "print(f\"Your age at the end of the year 2025: {2025 - year}\" )\n",
    "\n",
    "# Converting to float\n",
    "height = float(input(\"What is your height? \"))\n",
    "weight = float(input(\"What is your weight? \"))\n",
    "\n",
    "height = height / 100\n",
    "bmi = weight / height ** 2\n",
    "\n",
    "print(f\"The BMI is {bmi}\")"
   ]
  }
 ],
 "metadata": {
  "kernelspec": {
   "display_name": ".venv",
   "language": "python",
   "name": "python3"
  },
  "language_info": {
   "codemirror_mode": {
    "name": "ipython",
    "version": 3
   },
   "file_extension": ".py",
   "mimetype": "text/x-python",
   "name": "python",
   "nbconvert_exporter": "python",
   "pygments_lexer": "ipython3",
   "version": "3.13.3"
  }
 },
 "nbformat": 4,
 "nbformat_minor": 5
}
