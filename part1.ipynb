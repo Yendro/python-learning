{
 "cells": [
  {
   "cell_type": "markdown",
   "id": "3999b9e5",
   "metadata": {},
   "source": [
    "## Part 1 of Python Course\n",
    "---\n",
    "### Printing text\n",
    "The `print()` command outputs text in the console."
   ]
  },
  {
   "cell_type": "code",
   "execution_count": 8,
   "id": "be7a7a04",
   "metadata": {},
   "outputs": [
    {
     "name": "stdout",
     "output_type": "stream",
     "text": [
      "Hi, my name is Yendri!\n",
      "This is my \"Python printing\" tutorial\n",
      "This is an equation: 2 + 2 * 10\n",
      "This is the result:\n",
      "22\n"
     ]
    }
   ],
   "source": [
    "print(\"Hi, my name is Yendri!\")\n",
    "print('This is my \"Python printing\" tutorial')\n",
    "print(\"This is an equation: 2 + 2 * 10\")\n",
    "print(\"This is the result:\")\n",
    "print(2 + 2 * 10)"
   ]
  },
  {
   "cell_type": "markdown",
   "id": "eb9e5883",
   "metadata": {},
   "source": [
    "### Taking information from the user\n",
    "The command `input()` reads in a line of input typed in by the user in the console and stores it in the variable `name`. It may also be used to display a message to the user, to prompt for specific input.\n",
    "Text in quotation marks as well as variable names can be combined with a + operator, which concatenates two strings into a single string."
   ]
  },
  {
   "cell_type": "code",
   "execution_count": 11,
   "id": "906b3d9f",
   "metadata": {},
   "outputs": [
    {
     "name": "stdout",
     "output_type": "stream",
     "text": [
      "Hi, Yendri!\n",
      "Yendri is quite a nice name.\n"
     ]
    }
   ],
   "source": [
    "name = input(\"What is your name? \")\n",
    "print(\"Hi, \" + name + \"!\")\n",
    "print(name + \" is quite a nice name.\")"
   ]
  }
 ],
 "metadata": {
  "kernelspec": {
   "display_name": "Python 3",
   "language": "python",
   "name": "python3"
  },
  "language_info": {
   "codemirror_mode": {
    "name": "ipython",
    "version": 3
   },
   "file_extension": ".py",
   "mimetype": "text/x-python",
   "name": "python",
   "nbconvert_exporter": "python",
   "pygments_lexer": "ipython3",
   "version": "3.13.3"
  }
 },
 "nbformat": 4,
 "nbformat_minor": 5
}
