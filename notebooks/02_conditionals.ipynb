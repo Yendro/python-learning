{
 "cells": [
  {
   "cell_type": "markdown",
   "id": "59ebabbc",
   "metadata": {},
   "source": [
    "## String length"
   ]
  },
  {
   "cell_type": "markdown",
   "id": "72af3b14",
   "metadata": {},
   "source": [
    "The function `len` can be used to find out the length of a string, among other things. The function returns the number of characters in a string."
   ]
  },
  {
   "cell_type": "code",
   "execution_count": 4,
   "id": "fb17d41c",
   "metadata": {},
   "outputs": [
    {
     "name": "stdout",
     "output_type": "stream",
     "text": [
      "4\n",
      "8\n",
      "5\n",
      "0\n",
      "7\n"
     ]
    }
   ],
   "source": [
    "\n",
    "word = \"abcd\"\n",
    "print(len(word))\n",
    "\n",
    "print(len(\"hi there\"))\n",
    "\n",
    "word2 = \"pixel\"\n",
    "length = len(word2)\n",
    "print(length)\n",
    "\n",
    "empty_string = \"\"\n",
    "length = len(empty_string)\n",
    "print(length)\n",
    "\n",
    "length = len(input(\"Word:\"))\n",
    "print(length)\n"
   ]
  },
  {
   "cell_type": "markdown",
   "id": "3617a02a",
   "metadata": {},
   "source": [
    "## More conditionals"
   ]
  },
  {
   "cell_type": "markdown",
   "id": "3bc5c6b2",
   "metadata": {},
   "source": [
    "An additional conditional statement can be added to with an `elif` branch. It is short for the words \"else if\". Importantly, an `elif` statement is executed only if none of the preceding branches is executed.  \n",
    "It is possible to create another branch of the same conditional statement to cover all cases where the condition was *false*. This is called the `else` statement.\n",
    "\n",
    "There is no limit to the number of `elif` branches a conditional statement can contain, and the `else` branch is not mandatory."
   ]
  },
  {
   "cell_type": "code",
   "execution_count": 2,
   "id": "a1dfa64f",
   "metadata": {},
   "outputs": [
    {
     "name": "stdout",
     "output_type": "stream",
     "text": [
      "Number 1: 5\n",
      "Number 2: 3\n",
      "The greater number was: 5\n"
     ]
    }
   ],
   "source": [
    "number1 = int(input(\"Please type in the first number: \"))\n",
    "number2 = int(input(\"Please type in another number: \"))\n",
    "print(f\"Number 1: {number1}\\nNumber 2: {number2}\")\n",
    " \n",
    "if number1 > number2:\n",
    "    print(\"The greater number was:\", number1)\n",
    "elif number2 > number1:\n",
    "    print(\"The greater number was:\", number2)\n",
    "else:\n",
    "    print(\"The numbers are equal!\")"
   ]
  },
  {
   "cell_type": "markdown",
   "id": "fa73477d",
   "metadata": {},
   "source": [
    "Python comparison operators can also be used on strings. String `a` is smaller than string `b` if it comes alphabetically before `b`. Notice however that the comparison is only reliable if\n",
    "\n",
    "- the characters compared are of the same case, i.e. both UPPERCASE or both lowercase\n",
    "- only the standard English alphabet of a to z, or A to Z, is used."
   ]
  },
  {
   "cell_type": "code",
   "execution_count": 1,
   "id": "734fae51",
   "metadata": {},
   "outputs": [
    {
     "name": "stdout",
     "output_type": "stream",
     "text": [
      "scooter comes alphabetically last.\n"
     ]
    }
   ],
   "source": [
    "word1 = input(\"Please type in the 1st word: \")\n",
    "word2 = input(\"Please type in the 2nd word: \")\n",
    "\n",
    "if word1 > word2:\n",
    "    print(word1 + \" comes alphabetically last.\")\n",
    "elif word2 > word1:\n",
    "    print(word2 + \" comes alphabetically last.\")\n",
    "else:\n",
    "    print(\"You gave the same word twice.\")"
   ]
  },
  {
   "cell_type": "markdown",
   "id": "d3f26a47",
   "metadata": {},
   "source": [
    "### Logical operators"
   ]
  },
  {
   "cell_type": "markdown",
   "id": "25f499d3",
   "metadata": {},
   "source": [
    "You can combine conditions with the logical operators.\n",
    "\n",
    "| Operator |               Description                |       Syntax       |\n",
    "| :------: | :--------------------------------------: | :----------------: |\n",
    "|  `and`   |   True if both<br>statements are true    |     a `and` b      |\n",
    "|   `or`   | True if one of the<br>statements is true |      a `or` b      |\n",
    "|  `not`   |            Reverse the result            | `not` a<br>`not` b |"
   ]
  },
  {
   "cell_type": "code",
   "execution_count": 4,
   "id": "658d5068",
   "metadata": {},
   "outputs": [
    {
     "name": "stdout",
     "output_type": "stream",
     "text": [
      "The number is not within the range of 5 to 8\n"
     ]
    }
   ],
   "source": [
    "number = 9\n",
    "if not (number >= 5 and number <= 8):\n",
    "    print(\"The number is not within the range of 5 to 8\")"
   ]
  },
  {
   "cell_type": "markdown",
   "id": "9e86ecd1",
   "metadata": {},
   "source": [
    "### Nested conditionals"
   ]
  },
  {
   "cell_type": "markdown",
   "id": "c6899ee6",
   "metadata": {},
   "source": [
    "Conditional statements can also be nested within other conditional statements.  \n",
    "With nested conditional statements it is crucial to get the indentations right. Indentations determine which branches are linked together."
   ]
  },
  {
   "cell_type": "code",
   "execution_count": 5,
   "id": "75520f9d",
   "metadata": {},
   "outputs": [
    {
     "name": "stdout",
     "output_type": "stream",
     "text": [
      "The number is even\n"
     ]
    }
   ],
   "source": [
    "number = 6\n",
    "\n",
    "if number > 0:\n",
    "    if number % 2 == 0:\n",
    "        print(\"The number is even\")\n",
    "    else:\n",
    "        print(\"The number is odd\")\n",
    "else:\n",
    "    print(\"The number is negative or zero\")"
   ]
  },
  {
   "cell_type": "markdown",
   "id": "426bcee1",
   "metadata": {},
   "source": [
    "### Hierarchy of conditions"
   ]
  },
  {
   "cell_type": "markdown",
   "id": "6ae29506",
   "metadata": {},
   "source": [
    "First check the most specific condition, then check individual or more general conditions."
   ]
  },
  {
   "cell_type": "code",
   "execution_count": 5,
   "id": "16f28a5d",
   "metadata": {},
   "outputs": [
    {
     "name": "stdout",
     "output_type": "stream",
     "text": [
      "FizzBuzz\n"
     ]
    }
   ],
   "source": [
    "number = 45\n",
    "\n",
    "if ((number % 3) == 0) and ((number % 5) == 0):\n",
    "    print(\"FizzBuzz\")\n",
    "elif (number % 3) == 0:\n",
    "    print(\"Fizz\")\n",
    "elif (number % 5) == 0:\n",
    "    print(\"Buzz\")"
   ]
  },
  {
   "cell_type": "code",
   "execution_count": 4,
   "id": "89eac082",
   "metadata": {},
   "outputs": [
    {
     "name": "stdout",
     "output_type": "stream",
     "text": [
      "That year is not a leap year.\n"
     ]
    }
   ],
   "source": [
    "year = 1800\n",
    "\n",
    "if (year % 4 == 0 and year % 100 != 0) or (year % 400 == 0):\n",
    "    print(\"That year is a leap year.\")\n",
    "else:\n",
    "    print(\"That year is not a leap year.\")"
   ]
  }
 ],
 "metadata": {
  "kernelspec": {
   "display_name": ".venv",
   "language": "python",
   "name": "python3"
  },
  "language_info": {
   "codemirror_mode": {
    "name": "ipython",
    "version": 3
   },
   "file_extension": ".py",
   "mimetype": "text/x-python",
   "name": "python",
   "nbconvert_exporter": "python",
   "pygments_lexer": "ipython3",
   "version": "3.13.3"
  }
 },
 "nbformat": 4,
 "nbformat_minor": 5
}
