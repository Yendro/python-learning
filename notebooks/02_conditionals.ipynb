{
 "cells": [
  {
   "cell_type": "markdown",
   "id": "59ebabbc",
   "metadata": {},
   "source": [
    "## String length"
   ]
  },
  {
   "cell_type": "markdown",
   "id": "72af3b14",
   "metadata": {},
   "source": [
    "The function `len` can be used to find out the length of a string, among other things. The function returns the number of characters in a string."
   ]
  },
  {
   "cell_type": "code",
   "execution_count": 4,
   "id": "fb17d41c",
   "metadata": {},
   "outputs": [
    {
     "name": "stdout",
     "output_type": "stream",
     "text": [
      "4\n",
      "8\n",
      "5\n",
      "0\n",
      "7\n"
     ]
    }
   ],
   "source": [
    "\n",
    "word = \"abcd\"\n",
    "print(len(word))\n",
    "\n",
    "print(len(\"hi there\"))\n",
    "\n",
    "word2 = \"pixel\"\n",
    "length = len(word2)\n",
    "print(length)\n",
    "\n",
    "empty_string = \"\"\n",
    "length = len(empty_string)\n",
    "print(length)\n",
    "\n",
    "length = len(input(\"Word:\"))\n",
    "print(length)\n"
   ]
  },
  {
   "cell_type": "markdown",
   "id": "3617a02a",
   "metadata": {},
   "source": []
  }
 ],
 "metadata": {
  "kernelspec": {
   "display_name": ".venv",
   "language": "python",
   "name": "python3"
  },
  "language_info": {
   "codemirror_mode": {
    "name": "ipython",
    "version": 3
   },
   "file_extension": ".py",
   "mimetype": "text/x-python",
   "name": "python",
   "nbconvert_exporter": "python",
   "pygments_lexer": "ipython3",
   "version": "3.13.3"
  }
 },
 "nbformat": 4,
 "nbformat_minor": 5
}
